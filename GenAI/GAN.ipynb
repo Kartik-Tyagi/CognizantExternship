{
 "cells": [
  {
   "cell_type": "code",
   "execution_count": 1,
   "id": "190a9ade",
   "metadata": {},
   "outputs": [],
   "source": [
    "# GANs with Pretrained Models\n",
    "# Utilizing the provided gan_template.ipynb file"
   ]
  },
  {
   "cell_type": "code",
   "execution_count": 22,
   "id": "25b84af3",
   "metadata": {},
   "outputs": [
    {
     "name": "stderr",
     "output_type": "stream",
     "text": [
      "[nltk_data] Downloading package wordnet to\n",
      "[nltk_data]     C:\\Users\\tyagi\\AppData\\Roaming\\nltk_data...\n",
      "[nltk_data]   Package wordnet is already up-to-date!\n"
     ]
    }
   ],
   "source": [
    "import torch\n",
    "from pytorch_pretrained_biggan import BigGAN, one_hot_from_names\n",
    "from torchvision import transforms\n",
    "from PIL import Image\n",
    "import nltk\n",
    "\n",
    "#Getting wordnet\n",
    "nltk.download('wordnet')\n",
    "\n",
    "# Load pretrained BigGAN model\n",
    "model = BigGAN.from_pretrained('biggan-deep-256')\n",
    "\n",
    "# Generate random latent vector (noise)\n",
    "latent_vector = torch.randn(1, 128)  # 128 is the size of the input vector for BigGAN\n",
    "\n",
    "#Getting class labels\n",
    "class_label = one_hot_from_names(['golden retriever'], batch_size=1)\n",
    "class_label = torch.from_numpy(class_label)\n",
    "\n",
    "# Generate image\n",
    "with torch.no_grad():\n",
    "    generated_image = model(latent_vector, class_label, 0.4)\n",
    "\n",
    "# Convert the tensor to a displayable image\n",
    "# generated_image = generated_image.squeeze().cpu().numpy()\n",
    "# generated_image = (generated_image * 255).astype('uint8')\n",
    "# Image.fromarray(generated_image)\n",
    "\n",
    "generated_image = generated_image.squeeze(0).detach().cpu()\n",
    "generated_image = (generated_image + 1) / 2\n",
    "generated_image = generated_image.permute(1, 2, 0)\n",
    "generated_image = (generated_image * 255).clamp(0, 255).byte().numpy()\n",
    "\n",
    "img = Image.fromarray(generated_image)\n",
    "img.show()\n"
   ]
  }
 ],
 "metadata": {
  "kernelspec": {
   "display_name": "Python 3",
   "language": "python",
   "name": "python3"
  },
  "language_info": {
   "codemirror_mode": {
    "name": "ipython",
    "version": 3
   },
   "file_extension": ".py",
   "mimetype": "text/x-python",
   "name": "python",
   "nbconvert_exporter": "python",
   "pygments_lexer": "ipython3",
   "version": "3.12.6"
  }
 },
 "nbformat": 4,
 "nbformat_minor": 5
}
