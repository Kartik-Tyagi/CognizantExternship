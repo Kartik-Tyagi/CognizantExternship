{
 "cells": [
  {
   "cell_type": "code",
   "execution_count": null,
   "id": "cab4ae2a",
   "metadata": {},
   "outputs": [
    {
     "name": "stdout",
     "output_type": "stream",
     "text": [
      "Can't enter a 0, sorry\n",
      "Need an integer brother\n",
      "Need an integer brother\n",
      "100 dividid by 1 is 100.0\n"
     ]
    }
   ],
   "source": [
    "#Task 1\n",
    "\n",
    "user_number = 0\n",
    "divided_num = 0\n",
    "\n",
    "while True:\n",
    "    user_response = input(\"Think of a number (and give it too): \")\n",
    "\n",
    "    try:\n",
    "        user_number = int(user_response)\n",
    "        divided_num = 100/user_number\n",
    "    except ZeroDivisionError:\n",
    "        print(\"Can't enter a 0, sorry\")\n",
    "        continue\n",
    "    except ValueError:\n",
    "        print(\"Need an integer brother\")\n",
    "        continue\n",
    "    except:\n",
    "        raise\n",
    "    break\n",
    "\n",
    "print(f\"100 dividid by {user_number} is {divided_num}\")"
   ]
  },
  {
   "cell_type": "code",
   "execution_count": 5,
   "id": "01d76059",
   "metadata": {},
   "outputs": [
    {
     "name": "stdout",
     "output_type": "stream",
     "text": [
      "Brother your list has 4 items\n",
      "IndexError\n",
      "KeyError: Apologies my lord, we do not have that key\n",
      "TypeError: Can't add an integer to a string. Specially that string\n"
     ]
    }
   ],
   "source": [
    "#Task 2\n",
    "\n",
    "import time\n",
    "\n",
    "sample_list = [\"We\", \"Are\", \"A\", \"List\"]\n",
    "sample_dict = {\"Who am I?\": \"Dictionary!!\"}\n",
    "sample_str = \"I don't need anybody\"\n",
    "sample_int = 100\n",
    "\n",
    "try:\n",
    "    sample_list[5]\n",
    "except IndexError:\n",
    "    print(\"Brother your list has\", len(sample_list), \"items\")\n",
    "    print(\"IndexError\")\n",
    "time.sleep(1.5)\n",
    "try:\n",
    "    sample_dict[\"dictionary\"]\n",
    "except KeyError:\n",
    "    print(\"KeyError: Apologies my lord, we do not have that key\")\n",
    "time.sleep(1.5)\n",
    "try:\n",
    "    new_str = sample_str + sample_int\n",
    "except TypeError:\n",
    "    print(\"TypeError: Can't add an integer to a string. Specially that string\")"
   ]
  },
  {
   "cell_type": "code",
   "execution_count": 7,
   "id": "8b15a906",
   "metadata": {},
   "outputs": [
    {
     "name": "stdout",
     "output_type": "stream",
     "text": [
      "3 divided by 45 gives 0.06666666666666667\n",
      "Cool right? Follow for more\n",
      "\n",
      "Hope you enjoyed!!\n"
     ]
    }
   ],
   "source": [
    "#Task 3\n",
    "\n",
    "user_number1 = 0\n",
    "user_number2 = 0\n",
    "\n",
    "while True:\n",
    "    while True:\n",
    "        user_response = input(\"Think of a number (and give it too): \")\n",
    "\n",
    "        try:\n",
    "            user_number1 = int(user_response)\n",
    "        except:\n",
    "            print(\"Give an integer please\")\n",
    "            continue\n",
    "        break\n",
    "\n",
    "    while True:\n",
    "        user_response = input(\"Think of another number (and give it too): \")\n",
    "\n",
    "        try:\n",
    "            user_number2 = int(user_response)\n",
    "        except:\n",
    "            print(\"Give a non-zero integer please\")\n",
    "            continue\n",
    "        if user_number2 == 0:\n",
    "            print(\"This integer cannot be 0\")\n",
    "            continue\n",
    "        break\n",
    "    \n",
    "    flag = False\n",
    "    \n",
    "    try:\n",
    "        divided_num = user_number1/user_number2\n",
    "    except:\n",
    "        print(\"Division not possible, try again\")\n",
    "    else:\n",
    "        print(user_number1, \"divided by\", user_number2, \"gives\", divided_num)\n",
    "        print(\"Cool right? Follow for more\")\n",
    "        flag = True\n",
    "    finally:\n",
    "        print(\"\\nHope you enjoyed!!\")\n",
    "    \n",
    "    if flag:\n",
    "        break"
   ]
  }
 ],
 "metadata": {
  "kernelspec": {
   "display_name": "Python 3",
   "language": "python",
   "name": "python3"
  },
  "language_info": {
   "codemirror_mode": {
    "name": "ipython",
    "version": 3
   },
   "file_extension": ".py",
   "mimetype": "text/x-python",
   "name": "python",
   "nbconvert_exporter": "python",
   "pygments_lexer": "ipython3",
   "version": "3.12.6"
  }
 },
 "nbformat": 4,
 "nbformat_minor": 5
}
