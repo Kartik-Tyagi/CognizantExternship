{
 "cells": [
  {
   "cell_type": "code",
   "execution_count": 2,
   "id": "0f074992",
   "metadata": {},
   "outputs": [
    {
     "name": "stdout",
     "output_type": "stream",
     "text": [
      "Your name is Kartik? Crazy, that's the same name as my lost child\n",
      "\n",
      "Anyways, did you know that 41 + 65 equals 106\n"
     ]
    }
   ],
   "source": [
    "#Task 1\n",
    "\n",
    "import time\n",
    "import random\n",
    "\n",
    "def greet_user(name):\n",
    "    print(f\"Your name is {name}? Crazy, that's the same name as my lost child\")\n",
    "\n",
    "def add_numbers(num1, num2):\n",
    "    return num1 + num2\n",
    "\n",
    "user_response = input(\"What's your name? \")\n",
    "greet_user(user_response)\n",
    "\n",
    "num1 = int(random.random()*100) + 1\n",
    "num2 = int(random.random()*100) + 1\n",
    "time.sleep(2)\n",
    "\n",
    "print(\"\\nAnyways, did you know that\", num1, \"+\", num2, \"equals\", add_numbers(num1, num2))"
   ]
  },
  {
   "cell_type": "code",
   "execution_count": 6,
   "id": "531a6f1c",
   "metadata": {},
   "outputs": [
    {
     "name": "stdout",
     "output_type": "stream",
     "text": [
      "I got a dog named Buddy. I got a dragon named Dracarys. "
     ]
    }
   ],
   "source": [
    "#Task 2\n",
    "\n",
    "def describe_pet(pet_name, animal_type=\"dog\"):\n",
    "    print(f\"I got a {animal_type} named {pet_name}.\", end=\" \")\n",
    "    \n",
    "describe_pet(\"Buddy\")\n",
    "describe_pet(\"Dracarys\", \"dragon\")"
   ]
  },
  {
   "cell_type": "code",
   "execution_count": 8,
   "id": "1bd867ef",
   "metadata": {},
   "outputs": [
    {
     "name": "stdout",
     "output_type": "stream",
     "text": [
      "Chef Kartik here to serve you today\n",
      "Looks like you want a sandwich.\n",
      "Already got your order, adding: - BBQ Sauce - Cheese - Grilled Chicken - Mustard - Pickles"
     ]
    }
   ],
   "source": [
    "#Task 3\n",
    "\n",
    "import time\n",
    "\n",
    "def make_sandwich(*args):\n",
    "    print(\"Chef Kartik here to serve you today\")\n",
    "    time.sleep(1)\n",
    "    print(\"Looks like you want a sandwich.\")\n",
    "    time.sleep(1)\n",
    "    print(\"Already got your order, adding:\", end='')\n",
    "    for argument in args:\n",
    "        print(\" -\", argument, end='')\n",
    "\n",
    "make_sandwich(\"BBQ Sauce\", \"Cheese\", \"Grilled Chicken\", \"Mustard\", \"Pickles\")"
   ]
  },
  {
   "cell_type": "code",
   "execution_count": 12,
   "id": "48e4dc28",
   "metadata": {},
   "outputs": [
    {
     "name": "stdout",
     "output_type": "stream",
     "text": [
      "The factorial of 6 equals 720\n",
      "The 24th term in the Fibonacci sequence is 46368\n"
     ]
    }
   ],
   "source": [
    "#Task 4\n",
    "\n",
    "import random\n",
    "\n",
    "def factorial(n):\n",
    "    if n == 0:\n",
    "        return 1\n",
    "    if n == 1:\n",
    "        return 1\n",
    "    return n*factorial(n-1)\n",
    "\n",
    "def fibonacci(n):\n",
    "    if n == 1:\n",
    "        return 1\n",
    "    if n == 2:\n",
    "        return 1\n",
    "    return fibonacci(n-1) + fibonacci(n-2)\n",
    "\n",
    "num = int(random.random()*10)\n",
    "term = int(random.random()*25) + 1\n",
    "\n",
    "print(\"The factorial of\", num, \"equals\", factorial(num))\n",
    "if term == 1:\n",
    "    print(f\"The {term}st term in the Fibonacci sequence is {fibonacci(term)}\")\n",
    "elif term == 2:\n",
    "    print(f\"The {term}nd term in the Fibonacci sequence is {fibonacci(term)}\")\n",
    "elif term == 3:\n",
    "    print(f\"The {term}rd term in the Fibonacci sequence is {fibonacci(term)}\")\n",
    "else:\n",
    "    print(f\"The {term}th term in the Fibonacci sequence is {fibonacci(term)}\")"
   ]
  }
 ],
 "metadata": {
  "kernelspec": {
   "display_name": "Python 3",
   "language": "python",
   "name": "python3"
  },
  "language_info": {
   "codemirror_mode": {
    "name": "ipython",
    "version": 3
   },
   "file_extension": ".py",
   "mimetype": "text/x-python",
   "name": "python",
   "nbconvert_exporter": "python",
   "pygments_lexer": "ipython3",
   "version": "3.12.6"
  }
 },
 "nbformat": 4,
 "nbformat_minor": 5
}
