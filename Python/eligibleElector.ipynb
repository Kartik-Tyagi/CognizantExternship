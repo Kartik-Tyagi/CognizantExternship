{
 "cells": [
  {
   "cell_type": "code",
   "execution_count": 12,
   "id": "f404c724",
   "metadata": {},
   "outputs": [
    {
     "name": "stdout",
     "output_type": "stream",
     "text": [
      "Congrats on crossing 100 years!!! Please go ahead and vote, it would mean a lot\n"
     ]
    }
   ],
   "source": [
    "#Input analyzer similar to task 3 of pythonConcepts.ipynb\n",
    "\n",
    "while(True):\n",
    "    user_input = input(\"Welcome citizen, : you want to know if you are eligible? Give me your age: \")\n",
    "    user_number = 0\n",
    "    try:\n",
    "        user_number = int(user_input)\n",
    "    except:\n",
    "        print(\"We are looking for an integer age\")\n",
    "        continue\n",
    "    if user_number <= 0:\n",
    "        print(\"It is a little difficult for new borns and those yet to be born to vote\")\n",
    "    elif user_number >= 120:\n",
    "        print(\"If this is your actual age, please provide tips on your long life. You will always be eligible\")\n",
    "    elif user_number >= 100:\n",
    "        print(\"Congrats on crossing 100 years!!! Please go ahead and vote, it would mean a lot\")\n",
    "    elif user_number >= 80:\n",
    "        print(\"Woah, you are definitely eligible. Almost hit the 100 mark, stay strong.\")\n",
    "    elif user_number >= 18:\n",
    "        print(\"you can vote!!! It's time to take control of what's right and pick a great leader\")\n",
    "    elif user_number == 17:\n",
    "        print(\"Ooooooh, sorry! You can't vote yet. But, next year, you'll be all set to make a difference\")\n",
    "    else:\n",
    "        print(\"Ooooooh, sorry! You can't vote yet. But, in\", 18 - user_number, \"years, you'll be all set to make a difference\")\n",
    "    break"
   ]
  }
 ],
 "metadata": {
  "kernelspec": {
   "display_name": "Python 3",
   "language": "python",
   "name": "python3"
  },
  "language_info": {
   "codemirror_mode": {
    "name": "ipython",
    "version": 3
   },
   "file_extension": ".py",
   "mimetype": "text/x-python",
   "name": "python",
   "nbconvert_exporter": "python",
   "pygments_lexer": "ipython3",
   "version": "3.12.6"
  }
 },
 "nbformat": 4,
 "nbformat_minor": 5
}
