{
 "cells": [
  {
   "cell_type": "code",
   "execution_count": 8,
   "id": "fa20a426",
   "metadata": {},
   "outputs": [
    {
     "name": "stdout",
     "output_type": "stream",
     "text": [
      "Hey there, my name is Kartik! I'm 22 years old and 5.92 feet tall.\n"
     ]
    }
   ],
   "source": [
    "#Task 1\n",
    "\n",
    "name = \"Kartik\"\n",
    "age = 22\n",
    "height = 5.92\n",
    "\n",
    "print(f\"Hey there, my name is {name}! I'm {age} years old and {height} feet tall.\")"
   ]
  },
  {
   "cell_type": "code",
   "execution_count": 22,
   "id": "0537fb9f",
   "metadata": {},
   "outputs": [
    {
     "name": "stdout",
     "output_type": "stream",
     "text": [
      "The two numbers chosen are 79 and 31\n",
      "In case you were wondering, adding them would give 110\n",
      "I won't explain how I know this, but suprisingly, 79 - 31 is 48\n",
      "I have some more insane knowledge to give you. Multiplying these two numbers equals 2449\n",
      "Crazy right? Sometimes...my genius...it's almost frightening\n",
      "But it doesn't end there, I got one more\n",
      "79 / 31 = 2.5483870967741935\n"
     ]
    }
   ],
   "source": [
    "#Task 2\n",
    "\n",
    "import random\n",
    "\n",
    "num1 = int(random.random()*100)\n",
    "num2 = int(random.random()*100)\n",
    "\n",
    "print(\"The two numbers chosen are\", num1, \"and\", num2)\n",
    "print(\"In case you were wondering, adding them would give\", num1 + num2)\n",
    "print(\"I won't explain how I know this, but suprisingly,\", num1, \"-\", num2, \"is\", num1 - num2)\n",
    "print(\"I have some more insane knowledge to give you. Multiplying these two numbers equals\", num1*num2)\n",
    "print(\"Crazy right? Sometimes...my genius...it's almost frightening\")\n",
    "print(\"But it doesn't end there, I got one more\")\n",
    "print(num1, \"/\", num2, \"=\", num1/num2)"
   ]
  },
  {
   "cell_type": "code",
   "execution_count": 30,
   "id": "27303986",
   "metadata": {},
   "outputs": [
    {
     "name": "stdout",
     "output_type": "stream",
     "text": [
      "So either you tried to trick me or you don't know what an integer is. Either way, try again\n",
      "So either you tried to trick me or you don't know what an integer is. Either way, try again\n",
      "So either you tried to trick me or you don't know what an integer is. Either way, try again\n",
      "So either you tried to trick me or you don't know what an integer is. Either way, try again\n",
      "So either you tried to trick me or you don't know what an integer is. Either way, try again\n",
      "So either you tried to trick me or you don't know what an integer is. Either way, try again\n",
      "Too used to seeing a 0 in ur score report?\n"
     ]
    }
   ],
   "source": [
    "#Task 3\n",
    "\n",
    "while(True):\n",
    "    user_input = input(\"Hello my lord, please give me an integer number: \")\n",
    "    user_number = 0\n",
    "    try:\n",
    "        user_number = int(user_input)\n",
    "    except:\n",
    "        print(\"So either you tried to trick me or you don't know what an integer is. Either way, try again\")\n",
    "        continue\n",
    "    if user_number > 0:\n",
    "        print(\"Seems like you are a positive person just like the number you provided\")\n",
    "    elif user_number == 0:\n",
    "        print(\"Too used to seeing a 0 in ur score report?\")\n",
    "    else:\n",
    "        print(\"what a rebel, gave me a negative number\")\n",
    "    break"
   ]
  }
 ],
 "metadata": {
  "kernelspec": {
   "display_name": "Python 3",
   "language": "python",
   "name": "python3"
  },
  "language_info": {
   "codemirror_mode": {
    "name": "ipython",
    "version": 3
   },
   "file_extension": ".py",
   "mimetype": "text/x-python",
   "name": "python",
   "nbconvert_exporter": "python",
   "pygments_lexer": "ipython3",
   "version": "3.12.6"
  }
 },
 "nbformat": 4,
 "nbformat_minor": 5
}
