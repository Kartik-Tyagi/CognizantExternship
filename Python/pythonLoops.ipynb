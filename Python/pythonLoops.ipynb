{
 "cells": [
  {
   "cell_type": "code",
   "execution_count": 4,
   "id": "d3766d84",
   "metadata": {},
   "outputs": [
    {
     "name": "stdout",
     "output_type": "stream",
     "text": [
      "Prepare for the countdown!!!\n",
      "5\n",
      "4\n",
      "3\n",
      "2\n",
      "1\n",
      "ACTION!!!!!!!!!!!!!!!!!!!!!\n"
     ]
    }
   ],
   "source": [
    "#Task 1\n",
    "\n",
    "import time\n",
    "\n",
    "while True:\n",
    "    user_input = input(\"Hello again, please give me a starting number for the countdown: \")\n",
    "    user_number = 0\n",
    "    try:\n",
    "        user_number = int(user_input)\n",
    "    except:\n",
    "        print(\"This time give an integer number greater than 0\")\n",
    "        continue\n",
    "    if user_number <= 0:\n",
    "        print(\"This time give an integer number greater than 0\")\n",
    "        continue\n",
    "    break\n",
    "\n",
    "print(\"Prepare for the countdown!!!\")\n",
    "time.sleep(1)\n",
    "for i in range(user_number):\n",
    "    print(user_number - i)\n",
    "    time.sleep(1)\n",
    "print(\"ACTION!!!!!!!!!!!!!!!!!!!!!\")"
   ]
  },
  {
   "cell_type": "code",
   "execution_count": 15,
   "id": "7171658e",
   "metadata": {},
   "outputs": [
    {
     "name": "stdout",
     "output_type": "stream",
     "text": [
      "Here is your multiplication table:\n",
      "7.5 x 1 = 7.5\n",
      "7.5 x 2 = 15\n",
      "7.5 x 3 = 22.5\n",
      "7.5 x 4 = 30\n",
      "7.5 x 5 = 37.5\n",
      "7.5 x 6 = 45\n",
      "7.5 x 7 = 52.5\n",
      "7.5 x 8 = 60\n",
      "7.5 x 9 = 67.5\n",
      "7.5 x 10 = 75\n"
     ]
    }
   ],
   "source": [
    "#Task 2\n",
    "\n",
    "import time\n",
    "from decimal import Decimal, getcontext\n",
    "\n",
    "getcontext().prec = 10\n",
    "\n",
    "def accurate_multiply(a, b):\n",
    "    dec_a = Decimal(str(a))\n",
    "    dec_b = Decimal(str(b))\n",
    "    result = dec_a * dec_b\n",
    "    if result == int(result):\n",
    "        result = int(result)\n",
    "    return result\n",
    "\n",
    "while True:\n",
    "    user_input = input(\"You want a multiplication table?? Then tell me for which number: \")\n",
    "    user_number = 0\n",
    "    try:\n",
    "        user_number = float(user_input)\n",
    "    except:\n",
    "        print(\"This time give an integer number greater\")\n",
    "        continue\n",
    "    break\n",
    "if user_number == int(user_number):\n",
    "    user_number = int(user_number)\n",
    "\n",
    "print(\"Here is your multiplication table:\")\n",
    "time.sleep(1)\n",
    "for i in range(1, 11):\n",
    "    print(user_number, \"x\", i, \"=\", accurate_multiply(user_number, i))"
   ]
  },
  {
   "cell_type": "code",
   "execution_count": 17,
   "id": "b2ca1fc4",
   "metadata": {},
   "outputs": [
    {
     "name": "stdout",
     "output_type": "stream",
     "text": [
      "This time give an integer number greater than or equal to 0\n",
      "This time give an integer number greater than or equal to 0\n",
      "This time give an integer number greater than or equal to 0\n",
      "Your factorial is ready\n",
      "4! = 24\n"
     ]
    }
   ],
   "source": [
    "#Task 3\n",
    "\n",
    "import time\n",
    "\n",
    "while True:\n",
    "    user_input = input(\"Calculating the factorial can be a lot of work, let me do it for you. Give me a number: \")\n",
    "    user_number = 0\n",
    "    try:\n",
    "        user_number = int(user_input)\n",
    "    except:\n",
    "        print(\"This time give an integer number greater than or equal to 0\")\n",
    "        continue\n",
    "    if user_number < 0:\n",
    "        print(\"This time give an integer number greater than or equal to 0\")\n",
    "        continue\n",
    "    break\n",
    "\n",
    "result = 1\n",
    "for i in range(user_number):\n",
    "    result *= i + 1\n",
    "\n",
    "print(\"Your factorial is ready\")\n",
    "time.sleep(1)\n",
    "print(f\"{user_number}! = {result}\")"
   ]
  }
 ],
 "metadata": {
  "kernelspec": {
   "display_name": "Python 3",
   "language": "python",
   "name": "python3"
  },
  "language_info": {
   "codemirror_mode": {
    "name": "ipython",
    "version": 3
   },
   "file_extension": ".py",
   "mimetype": "text/x-python",
   "name": "python",
   "nbconvert_exporter": "python",
   "pygments_lexer": "ipython3",
   "version": "3.12.6"
  }
 },
 "nbformat": 4,
 "nbformat_minor": 5
}
