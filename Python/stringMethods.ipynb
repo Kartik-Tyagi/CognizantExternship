{
 "cells": [
  {
   "cell_type": "code",
   "execution_count": 2,
   "id": "7dfa60b3",
   "metadata": {},
   "outputs": [
    {
     "name": "stdout",
     "output_type": "stream",
     "text": [
      "What's amazing??\n",
      "Python\n",
      "\n",
      "LOUDERR\n",
      "amazing\n",
      "\n",
      "What?\n",
      "!gnizama si nohtyP\n"
     ]
    }
   ],
   "source": [
    "#Task 1\n",
    "import time\n",
    "\n",
    "str_var = \"Python is amazing!\"\n",
    "\n",
    "print(\"What's amazing??\")\n",
    "time.sleep(1)\n",
    "print(str_var[:6])\n",
    "time.sleep(1)\n",
    "print(\"\\nLOUDERR\")\n",
    "time.sleep(1)\n",
    "print(str_var[-8:-1])\n",
    "time.sleep(3)\n",
    "print(\"\\nWhat?\")\n",
    "time.sleep(2)\n",
    "print(str_var[::-1])"
   ]
  },
  {
   "cell_type": "code",
   "execution_count": 10,
   "id": "19890d3d",
   "metadata": {},
   "outputs": [
    {
     "name": "stdout",
     "output_type": "stream",
     "text": [
      "You don't like white spaces?\n",
      "Here: hello, python world!\n",
      "\n",
      "Wait, you wanted it capitalized?\n",
      "Here: Hello, python world!\n",
      "\n",
      "Actually, python is more of a universe than world\n",
      "Here: Hello, python universe!\n",
      "\n",
      "Oh you meant all caps?\n",
      "Here: HELLO, PYTHON WORLD!\n"
     ]
    }
   ],
   "source": [
    "#Task 2\n",
    "import time\n",
    "\n",
    "unprocessed = \" hello, python world! \"\n",
    "print(\"You don't like white spaces?\")\n",
    "time.sleep(1)\n",
    "print(\"Here:\", unprocessed.strip())\n",
    "time.sleep(2)\n",
    "print(\"\\nWait, you wanted it capitalized?\")\n",
    "time.sleep(1)\n",
    "print(\"Here:\", unprocessed.strip().capitalize())\n",
    "time.sleep(2)\n",
    "print(\"\\nActually, python is more of a universe than world\")\n",
    "time.sleep(1)\n",
    "print(\"Here:\", unprocessed.strip().capitalize().replace(\"world\", \"universe\"))\n",
    "time.sleep(2)\n",
    "print(\"\\nOh you meant all caps?\")\n",
    "time.sleep(1)\n",
    "print(\"Here:\", unprocessed.strip().upper())"
   ]
  },
  {
   "cell_type": "code",
   "execution_count": 9,
   "id": "5c03f7c0",
   "metadata": {},
   "outputs": [
    {
     "name": "stdout",
     "output_type": "stream",
     "text": [
      "You need to give me something\n",
      "You need to give me something\n",
      "You need to give me something\n",
      "Hmmmmmmmm\n",
      "\n",
      "What you gave me: no\n",
      "\n",
      "Ooooh, sorry. Not a palindrome\n"
     ]
    }
   ],
   "source": [
    "#Task 3\n",
    "import time\n",
    "while True:\n",
    "    user_response = input(\"Try to give me a palindrome: \")\n",
    "    if len(user_response) > 0:\n",
    "        break\n",
    "    print(\"You need to give me something\")\n",
    "\n",
    "reverse_response = user_response[::-1]\n",
    "\n",
    "print(\"Hmmmmmmmm\")\n",
    "time.sleep(1)\n",
    "print(\"\\nWhat you gave me:\", user_response)\n",
    "time.sleep(2)\n",
    "if user_response == reverse_response:\n",
    "    print(\"\\nWoah...\")\n",
    "    time.sleep(1)\n",
    "    print(\"It's a palindrome\")\n",
    "else:\n",
    "    print(\"\\nOoooh, sorry. Not a palindrome\")"
   ]
  }
 ],
 "metadata": {
  "kernelspec": {
   "display_name": "Python 3",
   "language": "python",
   "name": "python3"
  },
  "language_info": {
   "codemirror_mode": {
    "name": "ipython",
    "version": 3
   },
   "file_extension": ".py",
   "mimetype": "text/x-python",
   "name": "python",
   "nbconvert_exporter": "python",
   "pygments_lexer": "ipython3",
   "version": "3.12.6"
  }
 },
 "nbformat": 4,
 "nbformat_minor": 5
}
