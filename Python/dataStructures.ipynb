{
 "cells": [
  {
   "cell_type": "code",
   "execution_count": 3,
   "id": "d0a12687",
   "metadata": {},
   "outputs": [
    {
     "name": "stdout",
     "output_type": "stream",
     "text": [
      "My top 5 fruits: ['cherry', 'melon', 'mango', 'kiwi', 'grape']\n",
      "Oh wait, I like bananas. My new list: ['cherry', 'melon', 'mango', 'kiwi', 'grape', 'banana']\n",
      "Oh that's 6, my top 5: ['melon', 'mango', 'kiwi', 'grape', 'banana']\n",
      "Oops, opposite order: ['banana', 'grape', 'kiwi', 'mango', 'melon']\n"
     ]
    }
   ],
   "source": [
    "#Task 1\n",
    "\n",
    "import time\n",
    "\n",
    "fav_fruits = [\"cherry\", \"melon\", \"mango\", \"kiwi\", \"grape\"]\n",
    "print(\"My top 5 fruits:\", fav_fruits)\n",
    "time.sleep(2)\n",
    "fav_fruits.append(\"banana\")\n",
    "print(\"Oh wait, I like bananas. My new list:\", fav_fruits)\n",
    "time.sleep(2)\n",
    "fav_fruits.remove(\"cherry\")\n",
    "print(\"Oh that's 6, my top 5:\", fav_fruits)\n",
    "time.sleep(2)\n",
    "print(\"Oops, opposite order:\", fav_fruits[::-1])"
   ]
  },
  {
   "cell_type": "code",
   "execution_count": 9,
   "id": "a809d8f1",
   "metadata": {},
   "outputs": [
    {
     "name": "stdout",
     "output_type": "stream",
     "text": [
      "Keys: name, age, city, favorite color\n",
      "Values: Kartik Tyagi, 22, Markham, red\n"
     ]
    }
   ],
   "source": [
    "#Task 2\n",
    "\n",
    "me = {\"name\": \"Kartik Tyagi\", \"age\": 22, \"city\": \"Toronto\"}\n",
    "me[\"favorite color\"] = \"red\"\n",
    "me[\"city\"] = \"Markham\"\n",
    "\n",
    "first_print = \"Keys: \"\n",
    "for i in me.keys():\n",
    "    first_print += f\"{i}, \"\n",
    "    \n",
    "print(first_print[0:-2])\n",
    "    \n",
    "second_print = \"Values: \"\n",
    "for i in me.values():\n",
    "    second_print += f\"{i}, \"\n",
    "\n",
    "print(second_print[0:-2])"
   ]
  },
  {
   "cell_type": "code",
   "execution_count": null,
   "id": "4cf761aa",
   "metadata": {},
   "outputs": [
    {
     "name": "stdout",
     "output_type": "stream",
     "text": [
      "Favorite things:  ('Pirates of the Caribbean', 'Insane', 'Time Riders')\n",
      "The list cannot be changed brother\n",
      "Length of the dataset is: 3\n"
     ]
    },
    {
     "ename": "",
     "evalue": "",
     "output_type": "error",
     "traceback": [
      "\u001b[1;31mThe Kernel crashed while executing code in the current cell or a previous cell. \n",
      "\u001b[1;31mPlease review the code in the cell(s) to identify a possible cause of the failure. \n",
      "\u001b[1;31mClick <a href='https://aka.ms/vscodeJupyterKernelCrash'>here</a> for more info. \n",
      "\u001b[1;31mView Jupyter <a href='command:jupyter.viewOutput'>log</a> for further details."
     ]
    }
   ],
   "source": [
    "#Task 3\n",
    "\n",
    "import time\n",
    "\n",
    "favorites = (\"Pirates of the Caribbean\", \"Insane\", \"Time Riders\")\n",
    "\n",
    "print(\"Favorite things: \", favorites)\n",
    "\n",
    "time.sleep(1)\n",
    "try:\n",
    "    favorites[1] = \"Hell's Coming With Me\"\n",
    "except:\n",
    "    print(\"The list cannot be changed brother\")\n",
    "\n",
    "time.sleep(1)\n",
    "print(\"Length of the dataset is:\", len(favorites))"
   ]
  }
 ],
 "metadata": {
  "kernelspec": {
   "display_name": "Python 3",
   "language": "python",
   "name": "python3"
  },
  "language_info": {
   "codemirror_mode": {
    "name": "ipython",
    "version": 3
   },
   "file_extension": ".py",
   "mimetype": "text/x-python",
   "name": "python",
   "nbconvert_exporter": "python",
   "pygments_lexer": "ipython3",
   "version": "3.12.6"
  }
 },
 "nbformat": 4,
 "nbformat_minor": 5
}
