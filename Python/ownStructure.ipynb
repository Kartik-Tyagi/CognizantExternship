{
 "cells": [
  {
   "cell_type": "code",
   "execution_count": 7,
   "id": "fdee95bd",
   "metadata": {},
   "outputs": [
    {
     "name": "stdout",
     "output_type": "stream",
     "text": [
      "Welcome to the Inventory Manager!\n",
      "Current Inventory:\n",
      "Item: apple, Quantity: 10, Price: 2.5\n",
      "Item: banana, Quantity: 20, Price: 1.2\n",
      "Adding a new item: mango\n",
      "Updated Inventory:\n",
      "Item: apple, Quantity: 10, Price: 2.5\n",
      "Item: banana, Quantity: 20, Price: 1.2\n",
      "Item: mango, Quantity: 15, Price: 3.0\n",
      "Total value of inventory: $94.0\n"
     ]
    }
   ],
   "source": [
    "#Implement own data structure\n",
    "\n",
    "import time\n",
    "\n",
    "inventory = {}\n",
    "\n",
    "def add_item(str_key, tuple_value):\n",
    "    inventory[str_key] = tuple_value\n",
    "\n",
    "def remove_item(str_key):\n",
    "    try:\n",
    "        inventory.pop(str_key)\n",
    "    except:\n",
    "        print(str_key, \"does not exist\")\n",
    "\n",
    "def update_item(str_key, new_value):\n",
    "    if inventory.get(str_key):\n",
    "        inventory[str_key] = new_value\n",
    "    else:\n",
    "        print(str_key, \"does not exist\")\n",
    "        \n",
    "def print_items():\n",
    "    for item in inventory:\n",
    "        time.sleep(1)\n",
    "        print(f\"Item: {item}, Quantity: {inventory[item][0]}, Price: {inventory[item][1]}\")\n",
    "\n",
    "def total_value():\n",
    "    count = 0\n",
    "    for item in inventory:\n",
    "        count += inventory[item][0]*inventory[item][1]\n",
    "    return count\n",
    "\n",
    "add_item(\"apple\", (10, 2.5))\n",
    "add_item(\"banana\", (20, 1.2))\n",
    "\n",
    "print(\"Welcome to the Inventory Manager!\")\n",
    "time.sleep(1)\n",
    "print(\"Current Inventory:\")\n",
    "print_items()\n",
    "time.sleep(2)\n",
    "print(\"Adding a new item: mango\")\n",
    "add_item(\"mango\", (15, 3.0))\n",
    "time.sleep(1)\n",
    "print(\"Updated Inventory:\")\n",
    "print_items()\n",
    "time.sleep(2)\n",
    "print(f\"Total value of inventory: ${total_value()}\")"
   ]
  }
 ],
 "metadata": {
  "kernelspec": {
   "display_name": "Python 3",
   "language": "python",
   "name": "python3"
  },
  "language_info": {
   "codemirror_mode": {
    "name": "ipython",
    "version": 3
   },
   "file_extension": ".py",
   "mimetype": "text/x-python",
   "name": "python",
   "nbconvert_exporter": "python",
   "pygments_lexer": "ipython3",
   "version": "3.12.6"
  }
 },
 "nbformat": 4,
 "nbformat_minor": 5
}
