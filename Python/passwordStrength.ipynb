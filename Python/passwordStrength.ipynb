{
 "cells": [
  {
   "cell_type": "code",
   "execution_count": 7,
   "id": "fac7fba3",
   "metadata": {},
   "outputs": [
    {
     "name": "stdout",
     "output_type": "stream",
     "text": [
      "Congrats! Your Password is strong!!\n",
      "\n",
      "Your password strength score is: 10/10\n"
     ]
    }
   ],
   "source": [
    "#Password Strength Checker\n",
    "\n",
    "import time\n",
    "\n",
    "user_response = \"\"\n",
    "\n",
    "while True:\n",
    "    user_response = input(\"Give me a password: \")\n",
    "    if len(user_response) > 0 and ' ' not in user_response and '\\t' not in user_response:\n",
    "        break\n",
    "    print(\"Please enter a valid password, make sure there are no whitespaces\\n\")\n",
    "\n",
    "hash_check = [0, 0, 0, 0, 0]\n",
    "strength = 0\n",
    "\n",
    "if len(user_response) >= 8:\n",
    "    hash_check[0] = 1\n",
    "    strength += 2\n",
    "\n",
    "for ch in user_response:\n",
    "    if ch.isalnum():\n",
    "        if ch.isdigit():\n",
    "            if hash_check[3] == 0:\n",
    "                strength += 2\n",
    "            hash_check[3] += 1\n",
    "        elif ch.isupper():\n",
    "            if hash_check[1] == 0:\n",
    "                strength += 2\n",
    "            hash_check[1] += 1\n",
    "        else:\n",
    "            if hash_check[2] == 0:\n",
    "                strength += 2\n",
    "            hash_check[2] += 1\n",
    "    else:\n",
    "        if hash_check[4] == 0:\n",
    "            strength += 2\n",
    "        hash_check[4] += 1\n",
    "\n",
    "time.sleep(1)\n",
    "\n",
    "if strength == 10:\n",
    "    print(\"Congrats! Your Password is strong!!\")\n",
    "else:\n",
    "    print(\"Sorry...your passward seems weak\\n\")\n",
    "    time.sleep(1)\n",
    "    print(\"You need to add the following to your password:\")\n",
    "    time.sleep(1)\n",
    "    if hash_check[0] == 0:\n",
    "        print(\"At least\", 8 - len(user_response), \"more characters\")\n",
    "    if hash_check[1] == 0:\n",
    "        print(\"At least one uppercase letter\")\n",
    "    if hash_check[2] == 0:\n",
    "        print(\"At least one lower case letter\")\n",
    "    if hash_check[3] == 0:\n",
    "        print(\"At least one digit\")\n",
    "    if hash_check[4] == 0:\n",
    "        print(\"At least one special character\")\n",
    "    \n",
    "time.sleep(1.5)\n",
    "print(f\"\\nYour password strength score is: {strength}/10\")"
   ]
  }
 ],
 "metadata": {
  "kernelspec": {
   "display_name": "Python 3",
   "language": "python",
   "name": "python3"
  },
  "language_info": {
   "codemirror_mode": {
    "name": "ipython",
    "version": 3
   },
   "file_extension": ".py",
   "mimetype": "text/x-python",
   "name": "python",
   "nbconvert_exporter": "python",
   "pygments_lexer": "ipython3",
   "version": "3.12.6"
  }
 },
 "nbformat": 4,
 "nbformat_minor": 5
}
